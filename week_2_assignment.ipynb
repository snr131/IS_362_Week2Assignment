{
 "cells": [
  {
   "cell_type": "markdown",
   "id": "prescribed-blink",
   "metadata": {},
   "source": [
    "# Use Regular Expressions to Search Text in a DataFrame"
   ]
  },
  {
   "cell_type": "markdown",
   "id": "hungry-device",
   "metadata": {},
   "source": [
    "In this notebook, using one challenging concept (Regular Expressions) introduced in chapter 2 of Data Science from Scratch, I will find out how many Peloton classes I've taken that had Hip Hop music.\n",
    "\n",
    "Chapter 2 of Data Science from Scratch introduced Regular expressions. Regular expressions offers one method of locating a some part, whether it be a character or a phrase, within a string. To demonstrate this concept, I am using pandas to read a csv containing my Peloton indoor cycling metrics.\n",
    "\n",
    "You'll see that I've got a lot of work to do if I want to create meaning from the information I've teased out. I know how to determine how many classes I've taken with music genres specified, but I'd like to learn how to create a Music Genre column, direct the appropriate information to that column, so that I can use it to determine if I perform better or worse to the sounds of a particular music genre."
   ]
  },
  {
   "cell_type": "markdown",
   "id": "municipal-function",
   "metadata": {},
   "source": [
    "***"
   ]
  },
  {
   "cell_type": "markdown",
   "id": "stretch-player",
   "metadata": {},
   "source": [
    "First, I will import pandas and re."
   ]
  },
  {
   "cell_type": "code",
   "execution_count": 63,
   "id": "preceding-shark",
   "metadata": {},
   "outputs": [],
   "source": [
    "import pandas as pd\n",
    "import re"
   ]
  },
  {
   "cell_type": "markdown",
   "id": "dietary-fantasy",
   "metadata": {},
   "source": [
    "Next, I will read my csv and check out the first 5 records using .head"
   ]
  },
  {
   "cell_type": "code",
   "execution_count": 5,
   "id": "early-mauritius",
   "metadata": {},
   "outputs": [],
   "source": [
    "df = pd.read_csv('C:/Users/snr13/Google Drive/School/Personal Projects/Peloton/Data/snr131_workouts.csv')"
   ]
  },
  {
   "cell_type": "code",
   "execution_count": 6,
   "id": "lightweight-major",
   "metadata": {},
   "outputs": [
    {
     "data": {
      "text/html": [
       "<div>\n",
       "<style scoped>\n",
       "    .dataframe tbody tr th:only-of-type {\n",
       "        vertical-align: middle;\n",
       "    }\n",
       "\n",
       "    .dataframe tbody tr th {\n",
       "        vertical-align: top;\n",
       "    }\n",
       "\n",
       "    .dataframe thead th {\n",
       "        text-align: right;\n",
       "    }\n",
       "</style>\n",
       "<table border=\"1\" class=\"dataframe\">\n",
       "  <thead>\n",
       "    <tr style=\"text-align: right;\">\n",
       "      <th></th>\n",
       "      <th>Workout Timestamp</th>\n",
       "      <th>Live/On-Demand</th>\n",
       "      <th>Instructor Name</th>\n",
       "      <th>Length (minutes)</th>\n",
       "      <th>Fitness Discipline</th>\n",
       "      <th>Type</th>\n",
       "      <th>Title</th>\n",
       "      <th>Class Timestamp</th>\n",
       "      <th>Total Output</th>\n",
       "      <th>Avg. Watts</th>\n",
       "      <th>Avg. Resistance</th>\n",
       "      <th>Avg. Cadence (RPM)</th>\n",
       "      <th>Avg. Speed (mph)</th>\n",
       "      <th>Distance (mi)</th>\n",
       "      <th>Calories Burned</th>\n",
       "      <th>Avg. Heartrate</th>\n",
       "      <th>Avg. Incline</th>\n",
       "      <th>Avg. Pace (min/mi)</th>\n",
       "    </tr>\n",
       "  </thead>\n",
       "  <tbody>\n",
       "    <tr>\n",
       "      <th>0</th>\n",
       "      <td>2016-05-23 13:30 (UTC)</td>\n",
       "      <td>Live</td>\n",
       "      <td>Alex Toussaint</td>\n",
       "      <td>45</td>\n",
       "      <td>Cycling</td>\n",
       "      <td>Music</td>\n",
       "      <td>45 min Top Hits Ride</td>\n",
       "      <td>2016-05-23 13:15 (UTC)</td>\n",
       "      <td>150.0</td>\n",
       "      <td>56.0</td>\n",
       "      <td>35%</td>\n",
       "      <td>63.0</td>\n",
       "      <td>12.35</td>\n",
       "      <td>9.26</td>\n",
       "      <td>347.0</td>\n",
       "      <td>NaN</td>\n",
       "      <td>NaN</td>\n",
       "      <td>NaN</td>\n",
       "    </tr>\n",
       "    <tr>\n",
       "      <th>1</th>\n",
       "      <td>2020-04-05 16:46 (UTC)</td>\n",
       "      <td>On Demand</td>\n",
       "      <td>Olivia Amato</td>\n",
       "      <td>10</td>\n",
       "      <td>Strength</td>\n",
       "      <td>Bodyweight</td>\n",
       "      <td>10 min Bodyweight Strength</td>\n",
       "      <td>2020-03-10 12:31 (UTC)</td>\n",
       "      <td>NaN</td>\n",
       "      <td>NaN</td>\n",
       "      <td>NaN</td>\n",
       "      <td>NaN</td>\n",
       "      <td>NaN</td>\n",
       "      <td>NaN</td>\n",
       "      <td>7.0</td>\n",
       "      <td>NaN</td>\n",
       "      <td>NaN</td>\n",
       "      <td>NaN</td>\n",
       "    </tr>\n",
       "    <tr>\n",
       "      <th>2</th>\n",
       "      <td>2020-04-11 17:33 (UTC)</td>\n",
       "      <td>On Demand</td>\n",
       "      <td>Becs Gentry</td>\n",
       "      <td>10</td>\n",
       "      <td>Strength</td>\n",
       "      <td>Bodyweight</td>\n",
       "      <td>10 min Bodyweight Strength</td>\n",
       "      <td>2020-03-30 15:17 (UTC)</td>\n",
       "      <td>NaN</td>\n",
       "      <td>NaN</td>\n",
       "      <td>NaN</td>\n",
       "      <td>NaN</td>\n",
       "      <td>NaN</td>\n",
       "      <td>NaN</td>\n",
       "      <td>50.0</td>\n",
       "      <td>NaN</td>\n",
       "      <td>NaN</td>\n",
       "      <td>NaN</td>\n",
       "    </tr>\n",
       "    <tr>\n",
       "      <th>3</th>\n",
       "      <td>2020-04-12 14:42 (UTC)</td>\n",
       "      <td>On Demand</td>\n",
       "      <td>Olivia Amato</td>\n",
       "      <td>10</td>\n",
       "      <td>Strength</td>\n",
       "      <td>Bodyweight</td>\n",
       "      <td>10 min Bodyweight Strength</td>\n",
       "      <td>2020-03-10 12:31 (UTC)</td>\n",
       "      <td>NaN</td>\n",
       "      <td>NaN</td>\n",
       "      <td>NaN</td>\n",
       "      <td>NaN</td>\n",
       "      <td>NaN</td>\n",
       "      <td>NaN</td>\n",
       "      <td>50.0</td>\n",
       "      <td>NaN</td>\n",
       "      <td>NaN</td>\n",
       "      <td>NaN</td>\n",
       "    </tr>\n",
       "    <tr>\n",
       "      <th>4</th>\n",
       "      <td>2020-05-03 15:56 (EST)</td>\n",
       "      <td>On Demand</td>\n",
       "      <td>Andy Speer</td>\n",
       "      <td>30</td>\n",
       "      <td>Strength</td>\n",
       "      <td>Upper Body</td>\n",
       "      <td>30 min Upper Body: Live from Home</td>\n",
       "      <td>2020-05-01 11:25 (EST)</td>\n",
       "      <td>NaN</td>\n",
       "      <td>NaN</td>\n",
       "      <td>NaN</td>\n",
       "      <td>NaN</td>\n",
       "      <td>NaN</td>\n",
       "      <td>NaN</td>\n",
       "      <td>148.0</td>\n",
       "      <td>NaN</td>\n",
       "      <td>NaN</td>\n",
       "      <td>NaN</td>\n",
       "    </tr>\n",
       "  </tbody>\n",
       "</table>\n",
       "</div>"
      ],
      "text/plain": [
       "        Workout Timestamp Live/On-Demand Instructor Name  Length (minutes)  \\\n",
       "0  2016-05-23 13:30 (UTC)           Live  Alex Toussaint                45   \n",
       "1  2020-04-05 16:46 (UTC)      On Demand    Olivia Amato                10   \n",
       "2  2020-04-11 17:33 (UTC)      On Demand     Becs Gentry                10   \n",
       "3  2020-04-12 14:42 (UTC)      On Demand    Olivia Amato                10   \n",
       "4  2020-05-03 15:56 (EST)      On Demand      Andy Speer                30   \n",
       "\n",
       "  Fitness Discipline        Type                              Title  \\\n",
       "0            Cycling       Music               45 min Top Hits Ride   \n",
       "1           Strength  Bodyweight         10 min Bodyweight Strength   \n",
       "2           Strength  Bodyweight         10 min Bodyweight Strength   \n",
       "3           Strength  Bodyweight         10 min Bodyweight Strength   \n",
       "4           Strength  Upper Body  30 min Upper Body: Live from Home   \n",
       "\n",
       "          Class Timestamp  Total Output  Avg. Watts Avg. Resistance  \\\n",
       "0  2016-05-23 13:15 (UTC)         150.0        56.0             35%   \n",
       "1  2020-03-10 12:31 (UTC)           NaN         NaN             NaN   \n",
       "2  2020-03-30 15:17 (UTC)           NaN         NaN             NaN   \n",
       "3  2020-03-10 12:31 (UTC)           NaN         NaN             NaN   \n",
       "4  2020-05-01 11:25 (EST)           NaN         NaN             NaN   \n",
       "\n",
       "   Avg. Cadence (RPM)  Avg. Speed (mph)  Distance (mi)  Calories Burned  \\\n",
       "0                63.0             12.35           9.26            347.0   \n",
       "1                 NaN               NaN            NaN              7.0   \n",
       "2                 NaN               NaN            NaN             50.0   \n",
       "3                 NaN               NaN            NaN             50.0   \n",
       "4                 NaN               NaN            NaN            148.0   \n",
       "\n",
       "   Avg. Heartrate  Avg. Incline  Avg. Pace (min/mi)  \n",
       "0             NaN           NaN                 NaN  \n",
       "1             NaN           NaN                 NaN  \n",
       "2             NaN           NaN                 NaN  \n",
       "3             NaN           NaN                 NaN  \n",
       "4             NaN           NaN                 NaN  "
      ]
     },
     "execution_count": 6,
     "metadata": {},
     "output_type": "execute_result"
    }
   ],
   "source": [
    "df.head()"
   ]
  },
  {
   "cell_type": "markdown",
   "id": "sufficient-journalism",
   "metadata": {},
   "source": [
    "I've got data for both cycling classes and a bunch of other disciplines"
   ]
  },
  {
   "cell_type": "code",
   "execution_count": 8,
   "id": "popular-animal",
   "metadata": {},
   "outputs": [
    {
     "data": {
      "text/plain": [
       "Strength         165\n",
       "Cycling           53\n",
       "Stretching        18\n",
       "Cardio             9\n",
       "Bike Bootcamp      8\n",
       "Yoga               1\n",
       "Name: Fitness Discipline, dtype: int64"
      ]
     },
     "execution_count": 8,
     "metadata": {},
     "output_type": "execute_result"
    }
   ],
   "source": [
    "df['Fitness Discipline'].value_counts()"
   ]
  },
  {
   "cell_type": "markdown",
   "id": "governmental-manual",
   "metadata": {},
   "source": [
    "In this notebook I want to look at only cycling classes"
   ]
  },
  {
   "cell_type": "code",
   "execution_count": 10,
   "id": "cosmetic-vessel",
   "metadata": {},
   "outputs": [],
   "source": [
    "cycling_df = df.loc[(df['Fitness Discipline']=='Cycling')]"
   ]
  },
  {
   "cell_type": "code",
   "execution_count": 12,
   "id": "overall-agreement",
   "metadata": {},
   "outputs": [
    {
     "data": {
      "text/html": [
       "<div>\n",
       "<style scoped>\n",
       "    .dataframe tbody tr th:only-of-type {\n",
       "        vertical-align: middle;\n",
       "    }\n",
       "\n",
       "    .dataframe tbody tr th {\n",
       "        vertical-align: top;\n",
       "    }\n",
       "\n",
       "    .dataframe thead th {\n",
       "        text-align: right;\n",
       "    }\n",
       "</style>\n",
       "<table border=\"1\" class=\"dataframe\">\n",
       "  <thead>\n",
       "    <tr style=\"text-align: right;\">\n",
       "      <th></th>\n",
       "      <th>Workout Timestamp</th>\n",
       "      <th>Live/On-Demand</th>\n",
       "      <th>Instructor Name</th>\n",
       "      <th>Length (minutes)</th>\n",
       "      <th>Fitness Discipline</th>\n",
       "      <th>Type</th>\n",
       "      <th>Title</th>\n",
       "      <th>Class Timestamp</th>\n",
       "      <th>Total Output</th>\n",
       "      <th>Avg. Watts</th>\n",
       "      <th>Avg. Resistance</th>\n",
       "      <th>Avg. Cadence (RPM)</th>\n",
       "      <th>Avg. Speed (mph)</th>\n",
       "      <th>Distance (mi)</th>\n",
       "      <th>Calories Burned</th>\n",
       "      <th>Avg. Heartrate</th>\n",
       "      <th>Avg. Incline</th>\n",
       "      <th>Avg. Pace (min/mi)</th>\n",
       "    </tr>\n",
       "  </thead>\n",
       "  <tbody>\n",
       "    <tr>\n",
       "      <th>0</th>\n",
       "      <td>2016-05-23 13:30 (UTC)</td>\n",
       "      <td>Live</td>\n",
       "      <td>Alex Toussaint</td>\n",
       "      <td>45</td>\n",
       "      <td>Cycling</td>\n",
       "      <td>Music</td>\n",
       "      <td>45 min Top Hits Ride</td>\n",
       "      <td>2016-05-23 13:15 (UTC)</td>\n",
       "      <td>150.0</td>\n",
       "      <td>56.0</td>\n",
       "      <td>35%</td>\n",
       "      <td>63.0</td>\n",
       "      <td>12.35</td>\n",
       "      <td>9.26</td>\n",
       "      <td>347.0</td>\n",
       "      <td>NaN</td>\n",
       "      <td>NaN</td>\n",
       "      <td>NaN</td>\n",
       "    </tr>\n",
       "    <tr>\n",
       "      <th>49</th>\n",
       "      <td>2020-09-16 20:20 (EST)</td>\n",
       "      <td>On Demand</td>\n",
       "      <td>Alex Toussaint</td>\n",
       "      <td>20</td>\n",
       "      <td>Cycling</td>\n",
       "      <td>Music</td>\n",
       "      <td>20 min Hip Hop Ride</td>\n",
       "      <td>2020-06-06 16:00 (EST)</td>\n",
       "      <td>77.0</td>\n",
       "      <td>64.0</td>\n",
       "      <td>33%</td>\n",
       "      <td>77.0</td>\n",
       "      <td>13.39</td>\n",
       "      <td>4.46</td>\n",
       "      <td>106.0</td>\n",
       "      <td>NaN</td>\n",
       "      <td>NaN</td>\n",
       "      <td>NaN</td>\n",
       "    </tr>\n",
       "    <tr>\n",
       "      <th>50</th>\n",
       "      <td>2020-09-17 05:37 (EST)</td>\n",
       "      <td>On Demand</td>\n",
       "      <td>Alex Toussaint</td>\n",
       "      <td>30</td>\n",
       "      <td>Cycling</td>\n",
       "      <td>Music</td>\n",
       "      <td>30 min Hip Hop Ride</td>\n",
       "      <td>2020-08-31 19:21 (EST)</td>\n",
       "      <td>100.0</td>\n",
       "      <td>56.0</td>\n",
       "      <td>32%</td>\n",
       "      <td>75.0</td>\n",
       "      <td>12.45</td>\n",
       "      <td>6.23</td>\n",
       "      <td>138.0</td>\n",
       "      <td>NaN</td>\n",
       "      <td>NaN</td>\n",
       "      <td>NaN</td>\n",
       "    </tr>\n",
       "    <tr>\n",
       "      <th>51</th>\n",
       "      <td>2020-09-18 05:21 (EST)</td>\n",
       "      <td>On Demand</td>\n",
       "      <td>Alex Toussaint</td>\n",
       "      <td>30</td>\n",
       "      <td>Cycling</td>\n",
       "      <td>Theme</td>\n",
       "      <td>30 min Club Bangers Ride</td>\n",
       "      <td>2020-08-25 11:17 (EST)</td>\n",
       "      <td>130.0</td>\n",
       "      <td>73.0</td>\n",
       "      <td>37%</td>\n",
       "      <td>71.0</td>\n",
       "      <td>13.88</td>\n",
       "      <td>6.94</td>\n",
       "      <td>180.0</td>\n",
       "      <td>NaN</td>\n",
       "      <td>NaN</td>\n",
       "      <td>NaN</td>\n",
       "    </tr>\n",
       "    <tr>\n",
       "      <th>53</th>\n",
       "      <td>2020-09-24 13:09 (EST)</td>\n",
       "      <td>On Demand</td>\n",
       "      <td>Alex Toussaint</td>\n",
       "      <td>20</td>\n",
       "      <td>Cycling</td>\n",
       "      <td>Low Impact</td>\n",
       "      <td>20 min Low Impact Ride</td>\n",
       "      <td>2020-07-27 18:45 (EST)</td>\n",
       "      <td>81.0</td>\n",
       "      <td>67.0</td>\n",
       "      <td>31%</td>\n",
       "      <td>85.0</td>\n",
       "      <td>13.61</td>\n",
       "      <td>4.54</td>\n",
       "      <td>111.0</td>\n",
       "      <td>NaN</td>\n",
       "      <td>NaN</td>\n",
       "      <td>NaN</td>\n",
       "    </tr>\n",
       "  </tbody>\n",
       "</table>\n",
       "</div>"
      ],
      "text/plain": [
       "         Workout Timestamp Live/On-Demand Instructor Name  Length (minutes)  \\\n",
       "0   2016-05-23 13:30 (UTC)           Live  Alex Toussaint                45   \n",
       "49  2020-09-16 20:20 (EST)      On Demand  Alex Toussaint                20   \n",
       "50  2020-09-17 05:37 (EST)      On Demand  Alex Toussaint                30   \n",
       "51  2020-09-18 05:21 (EST)      On Demand  Alex Toussaint                30   \n",
       "53  2020-09-24 13:09 (EST)      On Demand  Alex Toussaint                20   \n",
       "\n",
       "   Fitness Discipline        Type                     Title  \\\n",
       "0             Cycling       Music      45 min Top Hits Ride   \n",
       "49            Cycling       Music       20 min Hip Hop Ride   \n",
       "50            Cycling       Music       30 min Hip Hop Ride   \n",
       "51            Cycling       Theme  30 min Club Bangers Ride   \n",
       "53            Cycling  Low Impact    20 min Low Impact Ride   \n",
       "\n",
       "           Class Timestamp  Total Output  Avg. Watts Avg. Resistance  \\\n",
       "0   2016-05-23 13:15 (UTC)         150.0        56.0             35%   \n",
       "49  2020-06-06 16:00 (EST)          77.0        64.0             33%   \n",
       "50  2020-08-31 19:21 (EST)         100.0        56.0             32%   \n",
       "51  2020-08-25 11:17 (EST)         130.0        73.0             37%   \n",
       "53  2020-07-27 18:45 (EST)          81.0        67.0             31%   \n",
       "\n",
       "    Avg. Cadence (RPM)  Avg. Speed (mph)  Distance (mi)  Calories Burned  \\\n",
       "0                 63.0             12.35           9.26            347.0   \n",
       "49                77.0             13.39           4.46            106.0   \n",
       "50                75.0             12.45           6.23            138.0   \n",
       "51                71.0             13.88           6.94            180.0   \n",
       "53                85.0             13.61           4.54            111.0   \n",
       "\n",
       "    Avg. Heartrate  Avg. Incline  Avg. Pace (min/mi)  \n",
       "0              NaN           NaN                 NaN  \n",
       "49             NaN           NaN                 NaN  \n",
       "50             NaN           NaN                 NaN  \n",
       "51             NaN           NaN                 NaN  \n",
       "53             NaN           NaN                 NaN  "
      ]
     },
     "execution_count": 12,
     "metadata": {},
     "output_type": "execute_result"
    }
   ],
   "source": [
    "cycling_df.head()"
   ]
  },
  {
   "cell_type": "markdown",
   "id": "respective-toolbox",
   "metadata": {},
   "source": [
    "The 'Title' column sometimes contains the music genre"
   ]
  },
  {
   "cell_type": "code",
   "execution_count": 13,
   "id": "pregnant-coffee",
   "metadata": {},
   "outputs": [
    {
     "data": {
      "text/plain": [
       "10 min Low Impact Ride                      4\n",
       "10 min Climb Ride                           3\n",
       "30 min Hip Hop Ride                         3\n",
       "15 min Hip Hop Ride                         3\n",
       "45 min Power Zone Endurance Ride            2\n",
       "20 min 90s Pop Ride                         2\n",
       "30 min EDM Ride                             2\n",
       "15 min EDM Ride                             2\n",
       "15 min Low Impact Ride                      2\n",
       "20 min Hip Hop Ride                         2\n",
       "30 min Power Zone EDM Ride                  1\n",
       "45 min Power Zone Ride                      1\n",
       "20 min EDM Ride                             1\n",
       "20 min 2000s Hip Hop Ride                   1\n",
       "30 min Club Bangers Ride                    1\n",
       "15 min Boss Ride                            1\n",
       "30 min Power Zone Endurance Ride            1\n",
       "45 min EDM Ride                             1\n",
       "15 min 90s Ride                             1\n",
       "30 min Power Zone Ride                      1\n",
       "45 min 2010s Ride                           1\n",
       "30 min 2010s Ride                           1\n",
       "20 min Low Impact Ride                      1\n",
       "20 min Beginner Ride                        1\n",
       "20 min 90s Dance Ride                       1\n",
       "20 min House Ride                           1\n",
       "60 min Power Zone Endurance Ride            1\n",
       "15 min 2000s Hip Hop Ride                   1\n",
       "20 min 90s Ride                             1\n",
       "15 min HIIT Ride                            1\n",
       "15 min Intro to Groove Ride                 1\n",
       "45 min HIIT & Hills Ride                    1\n",
       "30 min Power Zone Max Ride                  1\n",
       "30 min HIIT & Hills Ride                    1\n",
       "30 min 90s Hip Hop Ride                     1\n",
       "30 min Low Impact Ride                      1\n",
       "20 min Olympic National Park Scenic Ride    1\n",
       "45 min Top Hits Ride                        1\n",
       "Name: Title, dtype: int64"
      ]
     },
     "execution_count": 13,
     "metadata": {},
     "output_type": "execute_result"
    }
   ],
   "source": [
    "cycling_df['Title'].value_counts()"
   ]
  },
  {
   "cell_type": "markdown",
   "id": "operational-memorial",
   "metadata": {},
   "source": [
    "I'll use a search of the strings within the 'Title' column along with .sum to see how many classes I've taken with particular music genres specified"
   ]
  },
  {
   "cell_type": "code",
   "execution_count": 41,
   "id": "ethical-cholesterol",
   "metadata": {},
   "outputs": [
    {
     "data": {
      "text/plain": [
       "11"
      ]
     },
     "execution_count": 41,
     "metadata": {},
     "output_type": "execute_result"
    }
   ],
   "source": [
    "cycling_df['Title'].str.count(r'(Hip Hop)').sum()"
   ]
  },
  {
   "cell_type": "code",
   "execution_count": 42,
   "id": "controlling-lingerie",
   "metadata": {},
   "outputs": [
    {
     "data": {
      "text/plain": [
       "2"
      ]
     },
     "execution_count": 42,
     "metadata": {},
     "output_type": "execute_result"
    }
   ],
   "source": [
    "cycling_df['Title'].str.count(r'(Pop)').sum()"
   ]
  },
  {
   "cell_type": "code",
   "execution_count": 43,
   "id": "soviet-revolution",
   "metadata": {},
   "outputs": [
    {
     "data": {
      "text/plain": [
       "7"
      ]
     },
     "execution_count": 43,
     "metadata": {},
     "output_type": "execute_result"
    }
   ],
   "source": [
    "cycling_df['Title'].str.count(r'(EDM)').sum()"
   ]
  },
  {
   "cell_type": "code",
   "execution_count": 44,
   "id": "trained-detail",
   "metadata": {},
   "outputs": [
    {
     "data": {
      "text/plain": [
       "2"
      ]
     },
     "execution_count": 44,
     "metadata": {},
     "output_type": "execute_result"
    }
   ],
   "source": [
    "cycling_df['Title'].str.count(r'(2000s)').sum()"
   ]
  },
  {
   "cell_type": "code",
   "execution_count": 45,
   "id": "present-albany",
   "metadata": {},
   "outputs": [
    {
     "data": {
      "text/plain": [
       "6"
      ]
     },
     "execution_count": 45,
     "metadata": {},
     "output_type": "execute_result"
    }
   ],
   "source": [
    "cycling_df['Title'].str.count(r'(90s)').sum()"
   ]
  },
  {
   "cell_type": "code",
   "execution_count": 46,
   "id": "celtic-batch",
   "metadata": {},
   "outputs": [
    {
     "data": {
      "text/plain": [
       "2"
      ]
     },
     "execution_count": 46,
     "metadata": {},
     "output_type": "execute_result"
    }
   ],
   "source": [
    "cycling_df['Title'].str.count(r'(2010s)').sum()"
   ]
  },
  {
   "cell_type": "code",
   "execution_count": 47,
   "id": "typical-greek",
   "metadata": {},
   "outputs": [
    {
     "data": {
      "text/plain": [
       "1"
      ]
     },
     "execution_count": 47,
     "metadata": {},
     "output_type": "execute_result"
    }
   ],
   "source": [
    "cycling_df['Title'].str.count(r'(Club Bangers)').sum()"
   ]
  },
  {
   "cell_type": "code",
   "execution_count": 48,
   "id": "expired-rolling",
   "metadata": {},
   "outputs": [
    {
     "data": {
      "text/plain": [
       "1"
      ]
     },
     "execution_count": 48,
     "metadata": {},
     "output_type": "execute_result"
    }
   ],
   "source": [
    "cycling_df['Title'].str.count(r'(Dance)').sum()"
   ]
  },
  {
   "cell_type": "code",
   "execution_count": 49,
   "id": "accessible-wichita",
   "metadata": {},
   "outputs": [
    {
     "data": {
      "text/plain": [
       "1"
      ]
     },
     "execution_count": 49,
     "metadata": {},
     "output_type": "execute_result"
    }
   ],
   "source": [
    "cycling_df['Title'].str.count(r'(House)').sum()"
   ]
  },
  {
   "cell_type": "code",
   "execution_count": 50,
   "id": "middle-wagner",
   "metadata": {},
   "outputs": [
    {
     "data": {
      "text/plain": [
       "1"
      ]
     },
     "execution_count": 50,
     "metadata": {},
     "output_type": "execute_result"
    }
   ],
   "source": [
    "cycling_df['Title'].str.count(r'(Top Hits)').sum()"
   ]
  }
 ],
 "metadata": {
  "kernelspec": {
   "display_name": "Python 3",
   "language": "python",
   "name": "python3"
  },
  "language_info": {
   "codemirror_mode": {
    "name": "ipython",
    "version": 3
   },
   "file_extension": ".py",
   "mimetype": "text/x-python",
   "name": "python",
   "nbconvert_exporter": "python",
   "pygments_lexer": "ipython3",
   "version": "3.8.6"
  }
 },
 "nbformat": 4,
 "nbformat_minor": 5
}
